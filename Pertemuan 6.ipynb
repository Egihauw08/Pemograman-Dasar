{
  "nbformat": 4,
  "nbformat_minor": 0,
  "metadata": {
    "colab": {
      "provenance": [],
      "authorship_tag": "ABX9TyPEcv5TeAZ/GnBpCEpReGQf",
      "include_colab_link": true
    },
    "kernelspec": {
      "name": "python3",
      "display_name": "Python 3"
    },
    "language_info": {
      "name": "python"
    }
  },
  "cells": [
    {
      "cell_type": "markdown",
      "metadata": {
        "id": "view-in-github",
        "colab_type": "text"
      },
      "source": [
        "<a href=\"https://colab.research.google.com/github/Egihauw08/Pemograman-Dasar/blob/main/Pertemuan%206.ipynb\" target=\"_parent\"><img src=\"https://colab.research.google.com/assets/colab-badge.svg\" alt=\"Open In Colab\"/></a>"
      ]
    },
    {
      "cell_type": "code",
      "execution_count": 1,
      "metadata": {
        "colab": {
          "base_uri": "https://localhost:8080/"
        },
        "id": "NYHTJ_G5wnpu",
        "outputId": "fef8f217-83e7-41f3-c58d-21b34a134867"
      },
      "outputs": [
        {
          "output_type": "stream",
          "name": "stdout",
          "text": [
            "Sistem siap. Selamat datang kembali di sesi praktikum, Egi Syahputra!\n"
          ]
        }
      ],
      "source": [
        "def sapa_praktikan(nama):\n",
        "    \"\"\"Mencetak pesan sambutan dasar.\"\"\"\n",
        "    print(\"Sistem siap. Selamat datang kembali di sesi praktikum,\", nama + \"!\")\n",
        "\n",
        "# Pemanggilan fungsi sapa_praktikan\n",
        "sapa_praktikan(\"Egi Syahputra\")"
      ]
    },
    {
      "cell_type": "code",
      "source": [
        "def sapa_praktikan(nama):\n",
        "    \"\"\"Mencetak pesan sambutan dasar.\"\"\"\n",
        "    print(\"Sistem siap. Selamat datang kembali di sesi praktikum,\", nama + \"!\")\n",
        "\n",
        "def Biodata(nama, nim, jurusan, universitas, umur, tempat_lahir, tanggal_lahir):\n",
        "    \"\"\"Menampilkan biodata lengkap praktikan.\"\"\"\n",
        "    print(\"\\n=== BIODATA PRAKTIKAN ===\")\n",
        "    print(\"Nama           :\", nama)\n",
        "    print(\"NIM            :\", nim)\n",
        "    print(\"Jurusan        :\", jurusan)\n",
        "    print(\"Universitas    :\", universitas)\n",
        "    print(\"Umur           :\", umur)\n",
        "    print(\"Tempat Lahir   :\", tempat_lahir)\n",
        "    print(\"Tanggal Lahir  :\", tanggal_lahir)\n",
        "    print(\"===============================\")\n",
        "\n",
        "\n",
        "# Pemanggilan fungsi\n",
        "sapa_praktikan(\"Egi Syahputra\")\n",
        "\n",
        "Biodata(\n",
        "    nama=\"Egi Syahputra\",\n",
        "    nim=\"4232411019\",\n",
        "    jurusan=\"Teknik Elektro\",\n",
        "    universitas=\"Politeknik Batam\",\n",
        "    umur=\"21\",\n",
        "    tempat_lahir=\"Batam\",\n",
        "    tanggal_lahir=\"02 September 2004\"\n",
        ")\n"
      ],
      "metadata": {
        "colab": {
          "base_uri": "https://localhost:8080/"
        },
        "id": "_HI-LYJV0hHT",
        "outputId": "83874f26-b351-4ebd-ee74-116324440085"
      },
      "execution_count": 2,
      "outputs": [
        {
          "output_type": "stream",
          "name": "stdout",
          "text": [
            "Sistem siap. Selamat datang kembali di sesi praktikum, Egi Syahputra!\n",
            "\n",
            "=== BIODATA PRAKTIKAN ===\n",
            "Nama           : Egi Syahputra\n",
            "NIM            : 4232411019\n",
            "Jurusan        : Teknik Elektro\n",
            "Universitas    : Politeknik Batam\n",
            "Umur           : 21\n",
            "Tempat Lahir   : Batam\n",
            "Tanggal Lahir  : 02 September 2004\n",
            "===============================\n"
          ]
        }
      ]
    },
    {
      "cell_type": "code",
      "source": [
        "# SOAL 2: Menghitung Volume Kubus\n",
        "def hitung_volume_kubus(sisi):\n",
        "    \"\"\"Menghitung volume kubus dari panjang sisinya.\"\"\"\n",
        "    return sisi ** 3\n",
        "\n",
        "# Pemanggilan\n",
        "panjang_sisi = 5\n",
        "print(f\"Volume kubus dengan sisi {panjang_sisi} adalah: {hitung_volume_kubus(panjang_sisi)}\")\n"
      ],
      "metadata": {
        "colab": {
          "base_uri": "https://localhost:8080/"
        },
        "id": "aOnkxowa1fDd",
        "outputId": "e3d18005-49f7-4b25-c449-c91ba2148ef3"
      },
      "execution_count": 3,
      "outputs": [
        {
          "output_type": "stream",
          "name": "stdout",
          "text": [
            "Volume kubus dengan sisi 5 adalah: 125\n"
          ]
        }
      ]
    },
    {
      "cell_type": "code",
      "source": [
        "# MODIFIKASI: Menghitung Volume Balok\n",
        "def hitung_volume_balok(panjang, lebar, tinggi):\n",
        "    \"\"\"Menghitung volume balok dari panjang, lebar, dan tinggi.\"\"\"\n",
        "    return panjang * lebar * tinggi\n",
        "\n",
        "# Pemanggilan\n",
        "p = 8\n",
        "l = 5\n",
        "t = 4\n",
        "print(f\"Volume balok dengan ukuran {p} x {l} x {t} adalah: {hitung_volume_balok(p, l, t)}\")\n"
      ],
      "metadata": {
        "colab": {
          "base_uri": "https://localhost:8080/"
        },
        "id": "eqXtPo1V1x4W",
        "outputId": "bbe0b772-5720-4dd4-a1af-f3b957ef000a"
      },
      "execution_count": 4,
      "outputs": [
        {
          "output_type": "stream",
          "name": "stdout",
          "text": [
            "Volume balok dengan ukuran 8 x 5 x 4 adalah: 160\n"
          ]
        }
      ]
    },
    {
      "cell_type": "code",
      "source": [
        "def hitung_rata_rata(data_nilai):\n",
        "    \"\"\"Menghitung rata-rata dari list angka menggunakan perulangan for.\"\"\"\n",
        "    total = 0\n",
        "\n",
        "    # Perulangan untuk menjumlahkan nilai\n",
        "    for nilai in data_nilai:\n",
        "        total += nilai\n",
        "\n",
        "    # Pembagian untuk rata-rata\n",
        "    if total > 0:\n",
        "        return total / len(data_nilai)\n",
        "    return 0\n",
        "\n",
        "\n",
        "# Pemanggilan:\n",
        "nilai_praktikan = [85, 78, 92, 65, 90]\n",
        "print(f\"Nilai rata-rata kelas adalah: {hitung_rata_rata(nilai_praktikan)}\")\n"
      ],
      "metadata": {
        "colab": {
          "base_uri": "https://localhost:8080/"
        },
        "id": "gnTa2pe52ysm",
        "outputId": "cc0c0eb5-203e-4770-da2d-689f196922f4"
      },
      "execution_count": 5,
      "outputs": [
        {
          "output_type": "stream",
          "name": "stdout",
          "text": [
            "Nilai rata-rata kelas adalah: 82.0\n"
          ]
        }
      ]
    },
    {
      "cell_type": "code",
      "source": [
        "def hitung_rata_rata(data_nilai):\n",
        "    \"\"\"Menghitung rata-rata dari list angka dengan validasi nilai.\"\"\"\n",
        "    total = 0\n",
        "    jumlah_data = 0\n",
        "\n",
        "    # Perulangan untuk menjumlahkan nilai\n",
        "    for nilai in data_nilai:\n",
        "        # Pengecekan nilai valid\n",
        "        if 0 <= nilai <= 100:\n",
        "            total += nilai\n",
        "            jumlah_data += 1\n",
        "        else:\n",
        "            print(f\"⚠️ Nilai {nilai} diabaikan (tidak valid).\")\n",
        "\n",
        "    # Pembagian untuk rata-rata\n",
        "    if jumlah_data > 0:\n",
        "        return total / jumlah_data\n",
        "    return 0\n",
        "\n",
        "\n",
        "# Pemanggilan:\n",
        "nilai_praktikan = [85, -5, 120, 78, 92, 65, 90]\n",
        "print(f\"Nilai rata-rata kelas adalah: {hitung_rata_rata(nilai_praktikan)}\")\n"
      ],
      "metadata": {
        "colab": {
          "base_uri": "https://localhost:8080/"
        },
        "id": "vePaTQTf3bQZ",
        "outputId": "50ec002b-c571-4c47-8dd9-f819d15f3019"
      },
      "execution_count": 6,
      "outputs": [
        {
          "output_type": "stream",
          "name": "stdout",
          "text": [
            "⚠️ Nilai -5 diabaikan (tidak valid).\n",
            "⚠️ Nilai 120 diabaikan (tidak valid).\n",
            "Nilai rata-rata kelas adalah: 82.0\n"
          ]
        }
      ]
    },
    {
      "cell_type": "code",
      "source": [
        "def tentukan_predikat(skor):\n",
        "    \"\"\"Menentukan predikat (A, B, C, D, E) berdasarkan skor.\"\"\"\n",
        "    if skor >= 85:\n",
        "        return \"A\"\n",
        "    elif skor >= 70:\n",
        "        return \"B\"\n",
        "    elif skor >= 60:\n",
        "        return \"C\"\n",
        "    elif skor >= 50:\n",
        "        return \"D\"\n",
        "    else:\n",
        "        return \"E\"\n",
        "\n",
        "\n",
        "# Pemanggilan:\n",
        "print(f\"Skor 85 mendapat predikat: {tentukan_predikat(85)}\")\n",
        "print(f\"Skor 55 mendapat predikat: {tentukan_predikat(55)}\")\n"
      ],
      "metadata": {
        "colab": {
          "base_uri": "https://localhost:8080/"
        },
        "id": "qx5dQnk64Cui",
        "outputId": "09cb4128-f98f-44f6-e2ec-d7bf7a7e3e58"
      },
      "execution_count": 7,
      "outputs": [
        {
          "output_type": "stream",
          "name": "stdout",
          "text": [
            "Skor 85 mendapat predikat: A\n",
            "Skor 55 mendapat predikat: D\n"
          ]
        }
      ]
    },
    {
      "cell_type": "code",
      "source": [
        "def tentukan_predikat(skor):\n",
        "    \"\"\"Menentukan predikat (A, B, C, D, E) berdasarkan skor dengan validasi tipe data.\"\"\"\n",
        "\n",
        "    # Pengecekan tipe data\n",
        "    if not isinstance(skor, (int, float)):\n",
        "        return \"Input tidak valid! Skor harus berupa angka.\"\n",
        "\n",
        "    # Logika penentuan predikat\n",
        "    if skor >= 85:\n",
        "        return \"A\"\n",
        "    elif skor >= 70:\n",
        "        return \"B\"\n",
        "    elif skor >= 60:\n",
        "        return \"C\"\n",
        "    elif skor >= 50:\n",
        "        return \"D\"\n",
        "    else:\n",
        "        return \"E\"\n",
        "\n",
        "\n",
        "# Pemanggilan:\n",
        "print(f\"Skor 75 mendapat predikat: {tentukan_predikat(75)}\")\n",
        "print(f\"Skor 48 mendapat predikat: {tentukan_predikat(48)}\")\n",
        "print(f\"Skor 'bagus' mendapat predikat: {tentukan_predikat('bagus')}\")\n"
      ],
      "metadata": {
        "colab": {
          "base_uri": "https://localhost:8080/"
        },
        "id": "wcokvv7j4m6M",
        "outputId": "4ed775bd-be2d-4c59-9da0-9c66bfef43e5"
      },
      "execution_count": 8,
      "outputs": [
        {
          "output_type": "stream",
          "name": "stdout",
          "text": [
            "Skor 75 mendapat predikat: B\n",
            "Skor 48 mendapat predikat: E\n",
            "Skor 'bagus' mendapat predikat: Input tidak valid! Skor harus berupa angka.\n"
          ]
        }
      ]
    },
    {
      "cell_type": "code",
      "source": [
        "def hitung_faktorial(n):\n",
        "    \"\"\"Menghitung faktorial dari bilangan positif n.\"\"\"\n",
        "    hasil = 1\n",
        "\n",
        "    # Perulangan berjalan selama n lebih besar dari 1\n",
        "    while n > 1:\n",
        "        hasil *= n\n",
        "        n -= 1  # Kurangi n setiap iterasi\n",
        "    return hasil\n",
        "\n",
        "\n",
        "# Pemanggilan fungsi\n",
        "bilangan_n = 4\n",
        "print(f\"Faktorial dari {bilangan_n} adalah: {hitung_faktorial(bilangan_n)}\")\n"
      ],
      "metadata": {
        "colab": {
          "base_uri": "https://localhost:8080/"
        },
        "id": "MjGngTua5ioi",
        "outputId": "a38c5895-b76d-4d16-949f-0883f4033b96"
      },
      "execution_count": 9,
      "outputs": [
        {
          "output_type": "stream",
          "name": "stdout",
          "text": [
            "Faktorial dari 4 adalah: 24\n"
          ]
        }
      ]
    },
    {
      "cell_type": "code",
      "source": [
        "def hitung_faktorial(n):\n",
        "    # Kasus jika n negatif\n",
        "    if n < 0:\n",
        "        return \"Faktorial tidak dapat dihitung untuk bilangan negatif!\"\n",
        "\n",
        "    # Kasus khusus n = 0 (secara definisi 0! = 1)\n",
        "    if n == 0:\n",
        "        return 1\n",
        "\n",
        "    hasil = 1\n",
        "    # Perulangan berjalan selama n lebih besar dari 1\n",
        "    while n > 1:\n",
        "        hasil *= n\n",
        "        n -= 1  # Kurangi n setiap iterasi\n",
        "    return hasil\n",
        "\n",
        "\n",
        "# Pemanggilan:\n",
        "print(f\"Faktorial dari 4 adalah: {hitung_faktorial(4)}\")\n",
        "print(f\"Faktorial dari 0 adalah: {hitung_faktorial(0)}\")\n",
        "print(f\"Faktorial dari -3 adalah: {hitung_faktorial(-3)}\")\n"
      ],
      "metadata": {
        "colab": {
          "base_uri": "https://localhost:8080/"
        },
        "id": "C01GuZj_6OG5",
        "outputId": "a4e05b7f-3d4e-4b7b-f90a-b84833bf7516"
      },
      "execution_count": 10,
      "outputs": [
        {
          "output_type": "stream",
          "name": "stdout",
          "text": [
            "Faktorial dari 4 adalah: 24\n",
            "Faktorial dari 0 adalah: 1\n",
            "Faktorial dari -3 adalah: Faktorial tidak dapat dihitung untuk bilangan negatif!\n"
          ]
        }
      ]
    },
    {
      "cell_type": "code",
      "source": [
        "def analisis_suhu(data_suhu):\n",
        "    \"\"\"Menghitung jumlah hari Panas dan Dingin dari data_suhu.\"\"\"\n",
        "    panas_count = 0\n",
        "    dingin_count = 0  # Inisialisasi penghitung hari dingin\n",
        "\n",
        "    for suhu in data_suhu:\n",
        "        if suhu >= 35:\n",
        "            panas_count += 1\n",
        "        elif suhu <= 15:\n",
        "            dingin_count += 1\n",
        "\n",
        "    return panas_count, dingin_count\n",
        "\n",
        "\n",
        "# Pemanggilan:\n",
        "suhu_mingguan = [36, 30, 14, 25, 38, 16, 28]\n",
        "jumlah_panas, jumlah_dingin = analisis_suhu(suhu_mingguan)\n",
        "\n",
        "print(f\"Jumlah hari Panas (>=35°C): {jumlah_panas}\")\n",
        "print(f\"Jumlah hari Dingin (<=15°C): {jumlah_dingin}\")\n"
      ],
      "metadata": {
        "colab": {
          "base_uri": "https://localhost:8080/"
        },
        "id": "akVtHGpO7GLG",
        "outputId": "db939d1d-3fd7-478b-8c24-3a98c4b388ab"
      },
      "execution_count": 11,
      "outputs": [
        {
          "output_type": "stream",
          "name": "stdout",
          "text": [
            "Jumlah hari Panas (>=35°C): 2\n",
            "Jumlah hari Dingin (<=15°C): 1\n"
          ]
        }
      ]
    },
    {
      "cell_type": "code",
      "source": [
        "# Definisi fungsi analisis_suhu\n",
        "def analisis_suhu(suhu_mingguan, batas_panas=35, batas_dingin=15):\n",
        "    jumlah_panas = sum(1 for s in suhu_mingguan if s >= batas_panas)\n",
        "    jumlah_dingin = sum(1 for s in suhu_mingguan if s <= batas_dingin)\n",
        "    return jumlah_panas, jumlah_dingin\n",
        "\n",
        "\n",
        "# Pemanggilan dengan nilai default\n",
        "suhu_mingguan = [36, 30, 14, 25, 38, 16, 28]\n",
        "jumlah_panas, jumlah_dingin = analisis_suhu(suhu_mingguan)\n",
        "print(f\"Jumlah hari Panas (>=35°C): {jumlah_panas}\")\n",
        "print(f\"Jumlah hari Dingin (<=15°C): {jumlah_dingin}\")\n",
        "\n",
        "\n",
        "# Pemanggilan dengan batas suhu berbeda\n",
        "jumlah_panas2, jumlah_dingin2 = analisis_suhu(suhu_mingguan, batas_panas=33, batas_dingin=18)\n",
        "print(f\"\\n[Pengaturan baru] Jumlah hari Panas (>=33°C): {jumlah_panas2}\")\n",
        "print(f\"[Pengaturan baru] Jumlah hari Dingin (<=18°C): {jumlah_dingin2}\")\n"
      ],
      "metadata": {
        "colab": {
          "base_uri": "https://localhost:8080/"
        },
        "id": "9_kpCTqj84dV",
        "outputId": "e5889ca4-c8ac-400a-b20f-23679771c5da"
      },
      "execution_count": 15,
      "outputs": [
        {
          "output_type": "stream",
          "name": "stdout",
          "text": [
            "Jumlah hari Panas (>=35°C): 2\n",
            "Jumlah hari Dingin (<=15°C): 1\n",
            "\n",
            "[Pengaturan baru] Jumlah hari Panas (>=33°C): 2\n",
            "[Pengaturan baru] Jumlah hari Dingin (<=18°C): 2\n"
          ]
        }
      ]
    }
  ]
}