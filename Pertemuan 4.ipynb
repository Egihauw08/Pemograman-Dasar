{
  "nbformat": 4,
  "nbformat_minor": 0,
  "metadata": {
    "colab": {
      "provenance": [],
      "authorship_tag": "ABX9TyPHUUXVmfLzD8F0BasQYuQF",
      "include_colab_link": true
    },
    "kernelspec": {
      "name": "python3",
      "display_name": "Python 3"
    },
    "language_info": {
      "name": "python"
    }
  },
  "cells": [
    {
      "cell_type": "markdown",
      "metadata": {
        "id": "view-in-github",
        "colab_type": "text"
      },
      "source": [
        "<a href=\"https://colab.research.google.com/github/Egihauw08/Pemograman-Dasar/blob/main/Pertemuan%204.ipynb\" target=\"_parent\"><img src=\"https://colab.research.google.com/assets/colab-badge.svg\" alt=\"Open In Colab\"/></a>"
      ]
    },
    {
      "cell_type": "code",
      "execution_count": null,
      "metadata": {
        "id": "3ccCoFEE-J0L",
        "colab": {
          "base_uri": "https://localhost:8080/"
        },
        "outputId": "7ca288b6-57be-4ded-8eda-ab58a834a403"
      },
      "outputs": [
        {
          "output_type": "stream",
          "name": "stdout",
          "text": [
            "Pengunjung adalah orang dewasa.\n"
          ]
        }
      ],
      "source": [
        "# Variabel untuk menyimpan umur pengunjung\n",
        "umur: int = 20\n",
        "\n",
        "# Program hanya akan mencetak pesan jika umur di atas 17\n",
        "if umur > 17:\n",
        "    print(\"Pengunjung adalah orang dewasa.\")\n"
      ]
    },
    {
      "cell_type": "code",
      "source": [
        "username = input(\"Masukkan username: \")\n",
        "password = input(\"Masukkan password: \")\n",
        "\n",
        "if username == \"admin\" and password == \"1234\":\n",
        "    print(\"Login berhasil\")\n",
        "else:\n",
        "    print(\"Login gagal\")\n"
      ],
      "metadata": {
        "colab": {
          "base_uri": "https://localhost:8080/"
        },
        "id": "ppQ2qAU0H5Wv",
        "outputId": "1984c365-b968-4eff-a4c2-da1bc630e94b"
      },
      "execution_count": null,
      "outputs": [
        {
          "output_type": "stream",
          "name": "stdout",
          "text": [
            "Masukkan username: admin\n",
            "Masukkan password: 1234\n",
            "Login berhasil\n"
          ]
        }
      ]
    },
    {
      "cell_type": "code",
      "source": [
        "# program untuk mengecek bonus dan diskon\n",
        "total_belanja = input(\"Total belanja: Rp \")\n",
        "# jumlah yang harus dibayar adalah berapa total belanjaannya\n",
        "# tapi kalau dapat diskon akan berkurang\n",
        "bayar = int(total_belanja)\n",
        "# jika dia belanja di atas 100rb maka berikan bonus dan diskon\n",
        "if int(total_belanja) > 100000:\n",
        "    print(\"Selamat Karena Belanja > Rp. 100.000 anda mendapat Voucher Makan \")\n",
        "    print(\"dan diskon 5%\")\n",
        "    # hitung diskonnya\n",
        "    diskon = int(total_belanja) * 5/100  # 5%\n",
        "    bayar = int(total_belanja) - diskon\n",
        "\n",
        "# cetak struk\n",
        "print(\"Total yang harus dibayar: Rp %s\" % bayar)\n",
        "print(\"Terima kasih sudah berbelanja di Toko Kami\")\n",
        "print(\"Kami Tunggu kunjungan anda selanjutnya.\")\n"
      ],
      "metadata": {
        "colab": {
          "base_uri": "https://localhost:8080/"
        },
        "id": "ibL8oCumH6e-",
        "outputId": "bdae114a-25ed-47b6-8037-28ab92d60b60"
      },
      "execution_count": null,
      "outputs": [
        {
          "output_type": "stream",
          "name": "stdout",
          "text": [
            "Total belanja: Rp 250000\n",
            "Selamat Karena Belanja > Rp. 100.000 anda mendapat Voucher Makan \n",
            "dan diskon 5%\n",
            "Total yang harus dibayar: Rp 237500.0\n",
            "Terima kasih sudah berbelanja di Toko Kami\n",
            "Kami Tunggu kunjungan anda selanjutnya.\n"
          ]
        }
      ]
    },
    {
      "cell_type": "code",
      "source": [
        "# Variabel untuk memeriksa apakah ada notifikasi baru\n",
        "ada_notifikasi_baru: bool = True\n",
        "\n",
        "if ada_notifikasi_baru:\n",
        "    print(\"Anda memiliki pesan baru!\")\n"
      ],
      "metadata": {
        "colab": {
          "base_uri": "https://localhost:8080/"
        },
        "id": "00W2hZQEIxFW",
        "outputId": "a598306f-0a42-4bd4-8837-96798a0dc35c"
      },
      "execution_count": null,
      "outputs": [
        {
          "output_type": "stream",
          "name": "stdout",
          "text": [
            "Anda memiliki pesan baru!\n"
          ]
        }
      ]
    },
    {
      "cell_type": "code",
      "source": [
        "umur = input(\"Berapa umur kamu: \")\n",
        "if int(umur) >= 18:\n",
        "    print(\"Kamu boleh membuat SIM\")\n",
        "else:\n",
        "    print(\"Kamu belum boleh membuat SIM\")\n"
      ],
      "metadata": {
        "colab": {
          "base_uri": "https://localhost:8080/"
        },
        "id": "GHqYquT0JtqN",
        "outputId": "dd5d75ce-af81-4038-bdf7-395facd26e95"
      },
      "execution_count": null,
      "outputs": [
        {
          "output_type": "stream",
          "name": "stdout",
          "text": [
            "Berapa umur kamu: 21\n",
            "Kamu boleh membuat SIM\n"
          ]
        }
      ]
    },
    {
      "cell_type": "code",
      "source": [
        "total_belanja = 250000   # asumsikan total belanja di atas 20rb\n",
        "\n",
        "if total_belanja > 200000:\n",
        "    diskon = total_belanja * 0.10\n",
        "    total_bayar = total_belanja - diskon\n",
        "    print(f\"Anda mendapat diskon! Total bayar: Rp {total_bayar}\")\n",
        "else:\n",
        "    print(f\"Total bayar: Rp {total_belanja}\")\n"
      ],
      "metadata": {
        "colab": {
          "base_uri": "https://localhost:8080/"
        },
        "id": "7FK4qQszLm0O",
        "outputId": "da98352f-9656-437e-9e1e-73425600b674"
      },
      "execution_count": null,
      "outputs": [
        {
          "output_type": "stream",
          "name": "stdout",
          "text": [
            "Anda mendapat diskon! Total bayar: Rp 225000.0\n"
          ]
        }
      ]
    },
    {
      "cell_type": "code",
      "source": [
        "angka = int(input(\"Masukkan bilangan: \"))\n",
        "\n",
        "if angka % 2 == 0:\n",
        "    print(\"Bilangan Genap\")\n",
        "else:\n",
        "    print(\"Bilangan Ganjil\")\n"
      ],
      "metadata": {
        "colab": {
          "base_uri": "https://localhost:8080/"
        },
        "id": "MpVoR-UwLuUE",
        "outputId": "fc1b7844-5c8e-434b-fa9d-d665fc810ccb"
      },
      "execution_count": null,
      "outputs": [
        {
          "output_type": "stream",
          "name": "stdout",
          "text": [
            "Masukkan bilangan: 4\n",
            "Bilangan Genap\n"
          ]
        }
      ]
    },
    {
      "cell_type": "code",
      "source": [
        "nilai = 80\n",
        "if nilai >= 85:\n",
        "    print(\"Luar biasa! Nilai A\")\n",
        "elif nilai >= 70:\n",
        "    print(\"Bagus! Nilai B\")\n",
        "elif nilai >= 60:\n",
        "    print(\"Cukup. Nilai C\")\n",
        "else:\n",
        "    print(\"Nilai kurang, perlu belajar lebih giat.\")\n"
      ],
      "metadata": {
        "colab": {
          "base_uri": "https://localhost:8080/"
        },
        "id": "Rh9kp_QEM5R-",
        "outputId": "90418ada-2b84-40ff-a154-6b2d93f6ba65"
      },
      "execution_count": null,
      "outputs": [
        {
          "output_type": "stream",
          "name": "stdout",
          "text": [
            "Bagus! Nilai B\n"
          ]
        }
      ]
    },
    {
      "cell_type": "code",
      "source": [
        "# Menentukan jenis diskon berdasarkan hari\n",
        "hari: str = \"Sabtu\"\n",
        "\n",
        "if hari == \"Sabtu\" or hari == \"Minggu\":\n",
        "    diskon: float = 0.20  # Diskon 20%\n",
        "    print(f\"Selamat! Anda mendapat diskon akhir pekan sebesar {diskon*100}%.\")\n",
        "elif hari == \"Jumat\":\n",
        "    diskon: float = 0.15  # Diskon 15%\n",
        "    print(f\"Diskon spesial Jumat! Anda mendapat potongan {diskon*100}%.\")\n",
        "else:\n",
        "    diskon: float = 0.05  # Diskon 5%\n",
        "    print(f\"Anda mendapat diskon hari biasa sebesar {diskon*100}%.\")\n"
      ],
      "metadata": {
        "colab": {
          "base_uri": "https://localhost:8080/"
        },
        "id": "ID-aCA4qM6ZF",
        "outputId": "d4f9909f-4043-4c82-b2c0-1f7d64b902f9"
      },
      "execution_count": null,
      "outputs": [
        {
          "output_type": "stream",
          "name": "stdout",
          "text": [
            "Selamat! Anda mendapat diskon akhir pekan sebesar 20.0%.\n"
          ]
        }
      ]
    },
    {
      "cell_type": "code",
      "source": [
        "rupiah = int(input(\"Masukkan jumlah uang (Rp): \"))\n",
        "print(\"1. Dollar (USD)\")\n",
        "print(\"2. Euro (EUR)\")\n",
        "print(\"3. Yen (JPY)\")\n",
        "pilih = int(input(\"Pilih konversi (1/2/3): \"))\n",
        "\n",
        "if pilih == 1:\n",
        "    print(\"Dalam Dollar:\", rupiah / 15000)\n",
        "elif pilih == 2:\n",
        "    print(\"Dalam Euro:\", rupiah / 16000)\n",
        "elif pilih == 3:\n",
        "    print(\"Dalam Yen:\", rupiah / 120)\n",
        "else:\n",
        "    print(\"Pilihan tidak valid\")\n"
      ],
      "metadata": {
        "colab": {
          "base_uri": "https://localhost:8080/"
        },
        "id": "S2NGVhdvM-GF",
        "outputId": "b6234289-2dfb-4e9c-9fbc-7718581b12cc"
      },
      "execution_count": null,
      "outputs": [
        {
          "output_type": "stream",
          "name": "stdout",
          "text": [
            "Masukkan jumlah uang (Rp): 100000\n",
            "1. Dollar (USD)\n",
            "2. Euro (EUR)\n",
            "3. Yen (JPY)\n",
            "Pilih konversi (1/2/3): 1\n",
            "Dalam Dollar: 6.666666666666667\n"
          ]
        }
      ]
    },
    {
      "cell_type": "code",
      "source": [
        "# Program Menentukan Kelipatan 5\n",
        "\n",
        "# Meminta input angka dari pengguna\n",
        "angka = int(input(\"Masukkan sebuah angka: \"))\n",
        "\n",
        "# Mengecek apakah angka habis dibagi 5\n",
        "if angka % 5 == 0:\n",
        "    print(\"Kelipatan 5\")\n",
        "else:\n",
        "    print(\"Bukan kelipatan 5\")\n"
      ],
      "metadata": {
        "colab": {
          "base_uri": "https://localhost:8080/"
        },
        "id": "j_UIjThZNVLM",
        "outputId": "37210733-3e57-4c10-ad19-29f4ae0b9b1e"
      },
      "execution_count": null,
      "outputs": [
        {
          "output_type": "stream",
          "name": "stdout",
          "text": [
            "Masukkan sebuah angka: 10\n",
            "Kelipatan 5\n"
          ]
        }
      ]
    },
    {
      "cell_type": "code",
      "source": [
        "# Program Menentukan Tahun Kabisat\n",
        "\n",
        "# Meminta input tahun dari pengguna\n",
        "tahun = int(input(\"Masukkan tahun: \"))\n",
        "\n",
        "# Mengecek apakah tahun merupakan tahun kabisat\n",
        "if tahun % 400 == 0:\n",
        "    print(f\"{tahun} adalah tahun kabisat.\")\n",
        "elif tahun % 4 == 0 and tahun % 100 != 0:\n",
        "    print(f\"{tahun} adalah tahun kabisat.\")\n",
        "else:\n",
        "    print(f\"{tahun} bukan tahun kabisat.\")\n"
      ],
      "metadata": {
        "colab": {
          "base_uri": "https://localhost:8080/"
        },
        "id": "P7VC5G6XN9om",
        "outputId": "164cdb39-0be5-4181-c5bc-54ef3110d701"
      },
      "execution_count": null,
      "outputs": [
        {
          "output_type": "stream",
          "name": "stdout",
          "text": [
            "Masukkan tahun: 2023\n",
            "2023 bukan tahun kabisat.\n"
          ]
        }
      ]
    },
    {
      "cell_type": "code",
      "source": [
        "# Program Operasi Matematika Sederhana\n",
        "\n",
        "print(\"=== Pilihan Operasi Matematika ===\")\n",
        "print(\"1. Penjumlahan\")\n",
        "print(\"2. Pengurangan\")\n",
        "print(\"3. Perkalian\")\n",
        "print(\"4. Pembagian\")\n",
        "\n",
        "# Input pilihan dan dua angka\n",
        "pilih = int(input(\"Pilih operasi (1-4): \"))\n",
        "a = float(input(\"Masukkan angka pertama: \"))\n",
        "b = float(input(\"Masukkan angka kedua: \"))\n",
        "\n",
        "# Proses kondisi\n",
        "if pilih == 1:\n",
        "    print(f\"Hasil penjumlahan: {a + b}\")\n",
        "elif pilih == 2:\n",
        "    print(f\"Hasil pengurangan: {a - b}\")\n",
        "elif pilih == 3:\n",
        "    print(f\"Hasil perkalian: {a * b}\")\n",
        "elif pilih == 4:\n",
        "    if b != 0:\n",
        "        print(f\"Hasil pembagian: {a / b}\")\n",
        "    else:\n",
        "        print(\"Error: Pembagian dengan nol tidak diperbolehkan.\")\n",
        "else:\n",
        "    print(\"Pilihan tidak valid.\")\n"
      ],
      "metadata": {
        "colab": {
          "base_uri": "https://localhost:8080/"
        },
        "id": "S65YPVq7PC36",
        "outputId": "d0478c26-726c-436f-82bb-5eaf4a6a3814"
      },
      "execution_count": null,
      "outputs": [
        {
          "output_type": "stream",
          "name": "stdout",
          "text": [
            "=== Pilihan Operasi Matematika ===\n",
            "1. Penjumlahan\n",
            "2. Pengurangan\n",
            "3. Perkalian\n",
            "4. Pembagian\n",
            "Pilih operasi (1-4): 3\n",
            "Masukkan angka pertama: 12\n",
            "Masukkan angka kedua: 5\n",
            "Hasil perkalian: 60.0\n"
          ]
        }
      ]
    },
    {
      "cell_type": "code",
      "source": [
        "# Program Menampilkan Nama Bulan\n",
        "\n",
        "bulan = int(input(\"Masukkan nomor bulan (1-12): \"))\n",
        "\n",
        "if bulan == 1:\n",
        "    print(\"Januari\")\n",
        "elif bulan == 2:\n",
        "    print(\"Februari\")\n",
        "elif bulan == 3:\n",
        "    print(\"Maret\")\n",
        "elif bulan == 4:\n",
        "    print(\"April\")\n",
        "elif bulan == 5:\n",
        "    print(\"Mei\")\n",
        "elif bulan == 6:\n",
        "    print(\"Juni\")\n",
        "elif bulan == 7:\n",
        "    print(\"Juli\")\n",
        "elif bulan == 8:\n",
        "    print(\"Agustus\")\n",
        "elif bulan == 9:\n",
        "    print(\"September\")\n",
        "elif bulan == 10:\n",
        "    print(\"Oktober\")\n",
        "elif bulan == 11:\n",
        "    print(\"November\")\n",
        "elif bulan == 12:\n",
        "    print(\"Desember\")\n",
        "else:\n",
        "    print(\"Input salah! Masukkan angka 1–12.\")\n"
      ],
      "metadata": {
        "colab": {
          "base_uri": "https://localhost:8080/"
        },
        "id": "DH-Olp7qQQVy",
        "outputId": "ca74103f-87d2-4592-ba45-ccf3ac09a13a"
      },
      "execution_count": null,
      "outputs": [
        {
          "output_type": "stream",
          "name": "stdout",
          "text": [
            "Masukkan nomor bulan (1-12): 9\n",
            "September\n"
          ]
        }
      ]
    },
    {
      "cell_type": "code",
      "source": [
        "# Program Menentukan Waktu Berdasarkan Jam\n",
        "\n",
        "jam = int(input(\"Masukkan jam (0-23): \"))\n",
        "\n",
        "if 0 <= jam <= 11:\n",
        "    print(\"Selamat Pagi\")\n",
        "elif 12 <= jam <= 15:\n",
        "    print(\"Selamat Siang\")\n",
        "elif 16 <= jam <= 18:\n",
        "    print(\"Selamat Sore\")\n",
        "elif 19 <= jam <= 23:\n",
        "    print(\"Selamat Malam\")\n",
        "else:\n",
        "    print(\"Input salah! Masukkan jam antara 0–23.\")\n"
      ],
      "metadata": {
        "colab": {
          "base_uri": "https://localhost:8080/"
        },
        "id": "woTboNfWQs64",
        "outputId": "c82ce5aa-5407-44ab-a443-9cebbb96cf52"
      },
      "execution_count": null,
      "outputs": [
        {
          "output_type": "stream",
          "name": "stdout",
          "text": [
            "Masukkan jam (0-23): 13\n",
            "Selamat Siang\n"
          ]
        }
      ]
    },
    {
      "cell_type": "code",
      "source": [
        "print(\"=\"*40)\n",
        "print(\"SELAMAT DATANG DI KAFE GEMINI\")\n",
        "print(\"=\"*40)\n",
        "print(\"Menu Makanan & Minuman:\")\n",
        "print(\"1. Kopi Hitam     - Rp 12.000\")\n",
        "print(\"2. Teh Manis      - Rp 8.000\")\n",
        "print(\"3. Sate Bakar     - Rp 15.000\")\n",
        "print(\"4. Mie Instan     - Rp 10.000\")\n",
        "\n",
        "# Input pilihan menu\n",
        "pilihan = int(input(\"Silakan masukkan nomor pilihan Anda (1-4): \"))\n",
        "nama_pesanan = \"\"\n",
        "harga = 0\n",
        "\n",
        "# Kondisi pemilihan menu\n",
        "if pilihan == 1:\n",
        "    nama_pesanan = \"Kopi Hitam\"\n",
        "    harga = 12000\n",
        "elif pilihan == 2:\n",
        "    nama_pesanan = \"Teh Manis\"\n",
        "    harga = 8000\n",
        "elif pilihan == 3:\n",
        "    nama_pesanan = \"Sate Bakar\"\n",
        "    harga = 15000\n",
        "elif pilihan == 4:\n",
        "    nama_pesanan = \"Mie Instan\"\n",
        "    harga = 10000\n",
        "else:\n",
        "    print(\"Pilihan tidak valid. Silakan jalankan ulang program.\")\n",
        "    exit()\n",
        "\n",
        "# Menampilkan total awal\n",
        "print(f\"\\nAnda memesan: {nama_pesanan} dengan harga Rp {harga:,}\")\n",
        "\n",
        "# Menentukan diskon berdasarkan total harga\n",
        "if harga >= 15000:\n",
        "    diskon = 0.70\n",
        "    kategori = \"Diskon 70%\"\n",
        "elif harga >= 10000:\n",
        "    diskon = 0.50\n",
        "    kategori = \"Diskon 50%\"\n",
        "else:\n",
        "    diskon = 0.30\n",
        "    kategori = \"Diskon 30%\"\n",
        "\n",
        "# Hitung harga setelah diskon\n",
        "potongan = harga * diskon\n",
        "total_bayar = harga - potongan\n",
        "\n",
        "# Tampilkan rincian pembayaran\n",
        "print(\"\\n=== STRUK PEMBAYARAN ===\")\n",
        "print(f\"Pesanan Anda      : {nama_pesanan}\")\n",
        "print(f\"Harga Asli        : Rp {harga:,}\")\n",
        "print(f\"{kategori}        : Rp {potongan:,}\")\n",
        "print(f\"Total Setelah Diskon : Rp {total_bayar:,}\")\n",
        "\n",
        "# Pembayaran\n",
        "uang = int(input(\"\\nMasukkan jumlah uang Anda: Rp \"))\n",
        "if uang >= total_bayar:\n",
        "    kembalian = uang - total_bayar\n",
        "    print(f\"Kembalian Anda    : Rp {kembalian:,}\")\n",
        "    print(\"Terima kasih telah berbelanja di Kafe Gemini!\")\n",
        "else:\n",
        "    kurang = total_bayar - uang\n",
        "    print(f\"Uang Anda kurang Rp {kurang:,}. Silakan tambah pembayaran.\")\n",
        "\n",
        "print(\"=\"*40)\n"
      ],
      "metadata": {
        "colab": {
          "base_uri": "https://localhost:8080/"
        },
        "id": "THyEMCBMR0Ut",
        "outputId": "a6faa148-bcef-46b0-f5ec-7f74067b97ce"
      },
      "execution_count": null,
      "outputs": [
        {
          "output_type": "stream",
          "name": "stdout",
          "text": [
            "========================================\n",
            "SELAMAT DATANG DI KAFE GEMINI\n",
            "========================================\n",
            "Menu Makanan & Minuman:\n",
            "1. Kopi Hitam     - Rp 12.000\n",
            "2. Teh Manis      - Rp 8.000\n",
            "3. Sate Bakar     - Rp 15.000\n",
            "4. Mie Instan     - Rp 10.000\n",
            "Silakan masukkan nomor pilihan Anda (1-4): 3\n",
            "\n",
            "Anda memesan: Sate Bakar dengan harga Rp 15,000\n",
            "\n",
            "=== STRUK PEMBAYARAN ===\n",
            "Pesanan Anda      : Sate Bakar\n",
            "Harga Asli        : Rp 15,000\n",
            "Diskon 70%        : Rp 10,500.0\n",
            "Total Setelah Diskon : Rp 4,500.0\n",
            "\n",
            "Masukkan jumlah uang Anda: Rp 100000\n",
            "Kembalian Anda    : Rp 95,500.0\n",
            "Terima kasih telah berbelanja di Kafe Gemini!\n",
            "========================================\n"
          ]
        }
      ]
    }
  ]
}