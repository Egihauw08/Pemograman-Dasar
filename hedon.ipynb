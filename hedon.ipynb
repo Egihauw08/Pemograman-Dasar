{
  "nbformat": 4,
  "nbformat_minor": 0,
  "metadata": {
    "colab": {
      "provenance": [],
      "authorship_tag": "ABX9TyNpcJdsRV3F8D7tJaWBRYJU",
      "include_colab_link": true
    },
    "kernelspec": {
      "name": "python3",
      "display_name": "Python 3"
    },
    "language_info": {
      "name": "python"
    }
  },
  "cells": [
    {
      "cell_type": "markdown",
      "metadata": {
        "id": "view-in-github",
        "colab_type": "text"
      },
      "source": [
        "<a href=\"https://colab.research.google.com/github/Egihauw08/Pemograman-Dasar/blob/main/hedon.ipynb\" target=\"_parent\"><img src=\"https://colab.research.google.com/assets/colab-badge.svg\" alt=\"Open In Colab\"/></a>"
      ]
    },
    {
      "cell_type": "code",
      "source": [
        "# ==============================\n",
        "# 🧾 Luxury Receipt Generator\n",
        "# Harrods Luxury International (Dubai)\n",
        "# Currency: USDT | Language: English\n",
        "# ==============================\n",
        "\n",
        "from datetime import datetime\n",
        "from IPython.display import display, Markdown\n",
        "\n",
        "def fmt(x):\n",
        "    return f\"{x:,.0f}\"\n",
        "\n",
        "# --- Customer & Store Info ---\n",
        "customer_name = \"Egi Syahputra\"\n",
        "store_name = \"Harrods Luxury International (Dubai Branch)\"\n",
        "address = \"Dubai Marina - Sheikh Zayed Road, Dubai, UAE\"\n",
        "\n",
        "# --- Items Purchased (name, qty, price in USDT) ---\n",
        "items = [\n",
        "    (\"Tesla Model X Plaid\", 1, 230_000),\n",
        "    (\"iPhone 17 Pro Max\", 2, 1_200),\n",
        "    (\"PlayStation 5 Slim\", 1, 700),\n",
        "    (\"Luxury Villa - Palm Jumeirah\", 1, 7_800_000),\n",
        "    (\"Private Jet Gulfstream G800\", 1, 28_500_000),\n",
        "    (\"Luxury Yacht - Azimut\", 1, 19_000_000),\n",
        "]\n",
        "\n",
        "# --- Calculations ---\n",
        "subtotal = sum(qty * price for _, qty, price in items)\n",
        "discount = subtotal * 0.05\n",
        "vat = (subtotal - discount) * 0.11\n",
        "total = subtotal - discount + vat\n",
        "\n",
        "# --- Generate Receipt Text ---\n",
        "receipt_lines = []\n",
        "receipt_lines.append(f\"{store_name:^70}\")\n",
        "receipt_lines.append(f\"{address:^70}\")\n",
        "receipt_lines.append(\"-\"*70)\n",
        "receipt_lines.append(f\"Customer Name : {customer_name}\")\n",
        "receipt_lines.append(f\"Date & Time   : {datetime.now().strftime('%Y-%m-%d %H:%M:%S')}\")\n",
        "receipt_lines.append(\"-\"*70)\n",
        "receipt_lines.append(f\"{'Item':45}{'QTY':>5}{'Amount (USDT)':>15}\")\n",
        "receipt_lines.append(\"-\"*70)\n",
        "for name, qty, price in items:\n",
        "    receipt_lines.append(f\"{name:45}{qty:>5}{fmt(qty*price):>15}\")\n",
        "receipt_lines.append(\"-\"*70)\n",
        "receipt_lines.append(f\"{'Subtotal':50}{fmt(subtotal):>15}\")\n",
        "receipt_lines.append(f\"{'Premium Member Discount (5%)':50}- {fmt(discount):>14}\")\n",
        "receipt_lines.append(f\"{'VAT (11%)':50}{fmt(vat):>15}\")\n",
        "receipt_lines.append(\"-\"*70)\n",
        "receipt_lines.append(f\"{'TOTAL AMOUNT':50}{fmt(total):>15} USDT\")\n",
        "receipt_lines.append(\"-\"*70)\n",
        "receipt_lines.append(\"Payment Method: Crypto Wallet (USDT - TRC20)\")\n",
        "receipt_lines.append(\"Processed by: Jonathan M.\")\n",
        "receipt_lines.append(\"-\"*70)\n",
        "receipt_lines.append(f\"Thank you, {customer_name}!\")\n",
        "receipt_lines.append(\"Harrods Luxury International - Dubai ✨\")\n",
        "receipt_lines.append('\"Where Elegance Meets Perfection\"')\n",
        "receipt_lines.append(\"-\"*70)\n",
        "\n",
        "# --- Combine and display as markdown (so it looks neat in Colab) ---\n",
        "receipt_text = \"\\n\".join(receipt_lines)\n",
        "display(Markdown(f\"```\\n{receipt_text}\\n```\"))\n",
        "\n",
        "# --- Optional: Save to TXT file (you can download it) ---\n",
        "with open(\"Luxury_Receipt_EgiSyahputra.txt\", \"w\", encoding=\"utf-8\") as f:\n",
        "    f.write(receipt_text)\n",
        "\n",
        "print(\"\\n✅ Receipt successfully generated and saved as 'Luxury_Receipt_EgiSyahputra.txt'\")\n"
      ],
      "metadata": {
        "colab": {
          "base_uri": "https://localhost:8080/",
          "height": 538
        },
        "id": "MKukbFhp3ptV",
        "outputId": "221202b0-5042-4145-fe6a-604945d90a73"
      },
      "execution_count": 4,
      "outputs": [
        {
          "output_type": "display_data",
          "data": {
            "text/plain": [
              "<IPython.core.display.Markdown object>"
            ],
            "text/markdown": "```\n             Harrods Luxury International (Dubai Branch)              \n             Dubai Marina - Sheikh Zayed Road, Dubai, UAE             \n----------------------------------------------------------------------\nCustomer Name : Egi Syahputra\nDate & Time   : 2025-10-16 16:34:52\n----------------------------------------------------------------------\nItem                                           QTY  Amount (USDT)\n----------------------------------------------------------------------\nTesla Model X Plaid                              1        230,000\niPhone 17 Pro Max                                2          2,400\nPlayStation 5 Slim                               1            700\nLuxury Villa - Palm Jumeirah                     1      7,800,000\nPrivate Jet Gulfstream G800                      1     28,500,000\nLuxury Yacht - Azimut                            1     19,000,000\n----------------------------------------------------------------------\nSubtotal                                               55,533,100\nPremium Member Discount (5%)                      -      2,776,655\nVAT (11%)                                               5,803,209\n----------------------------------------------------------------------\nTOTAL AMOUNT                                           58,559,654 USDT\n----------------------------------------------------------------------\nPayment Method: Crypto Wallet (USDT - TRC20)\nProcessed by: Jonathan M.\n----------------------------------------------------------------------\nThank you, Egi Syahputra!\nHarrods Luxury International - Dubai ✨\n\"Where Elegance Meets Perfection\"\n----------------------------------------------------------------------\n```"
          },
          "metadata": {}
        },
        {
          "output_type": "stream",
          "name": "stdout",
          "text": [
            "\n",
            "✅ Receipt successfully generated and saved as 'Luxury_Receipt_EgiSyahputra.txt'\n"
          ]
        }
      ]
    }
  ]
}