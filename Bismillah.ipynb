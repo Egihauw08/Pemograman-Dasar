{
  "nbformat": 4,
  "nbformat_minor": 0,
  "metadata": {
    "colab": {
      "provenance": [],
      "authorship_tag": "ABX9TyP0ovGs2E9Eb82HJqYdufFM",
      "include_colab_link": true
    },
    "kernelspec": {
      "name": "python3",
      "display_name": "Python 3"
    },
    "language_info": {
      "name": "python"
    }
  },
  "cells": [
    {
      "cell_type": "markdown",
      "metadata": {
        "id": "view-in-github",
        "colab_type": "text"
      },
      "source": [
        "<a href=\"https://colab.research.google.com/github/Egihauw08/Pemograman-Dasar/blob/main/Bismillah.ipynb\" target=\"_parent\"><img src=\"https://colab.research.google.com/assets/colab-badge.svg\" alt=\"Open In Colab\"/></a>"
      ]
    },
    {
      "cell_type": "code",
      "source": [
        "from datetime import datetime\n",
        "\n",
        "def fmt(x):\n",
        "    return f\"{x:,.0f}\".replace(\",\", \",\")\n",
        "\n",
        "# Customer & store details\n",
        "customer_name = \"Egi Syahputra\"\n",
        "store_name = \"Harrods Luxury International (Dubai Branch)\"\n",
        "address = \"Dubai Marina - Sheikh Zayed Road, Dubai, UAE\"\n",
        "\n",
        "# Items (name, quantity, price in USDT)\n",
        "items = [\n",
        "    (\"Tesla Model X Plaid\", 1, 230_000),\n",
        "    (\"iPhone 17 Pro Max\", 2, 1_200),\n",
        "    (\"PlayStation 5 Slim\", 1, 700),\n",
        "    (\"Luxury Villa - Palm Jumeirah\", 1, 7_800_000),\n",
        "    (\"Private Jet Gulfstream G800\", 1, 28_500_000),\n",
        "    (\"Luxury Yacht - Azimut\", 1, 19_000_000),\n",
        "]\n",
        "\n",
        "# Calculations\n",
        "subtotal = sum(qty * price for _, qty, price in items)\n",
        "discount = subtotal * 0.05  # 5% premium member discount\n",
        "vat = (subtotal - discount) * 0.11  # 11% VAT\n",
        "total = subtotal - discount + vat\n",
        "\n",
        "# Print receipt\n",
        "print(f\"{store_name.center(60)}\")\n",
        "print(address.center(60))\n",
        "print(\"-\" * 60)\n",
        "print(f\"Customer Name : {customer_name}\")\n",
        "print(f\"Date & Time   : {datetime.now().strftime('%Y-%m-%d %H:%M:%S')}\")\n",
        "print(\"-\" * 60)\n",
        "print(f\"{'Item':38}{'QTY':>5}{'Amount (USDT)':>15}\")\n",
        "print(\"-\" * 60)\n",
        "for name, qty, price in items:\n",
        "    print(f\"{name:38}{qty:>5}{fmt(qty*price):>15}\")\n",
        "print(\"-\" * 60)\n",
        "print(f\"{'Subtotal':43}{fmt(subtotal):>15}\")\n",
        "print(f\"{'Premium Member Discount (5%)':43}- {fmt(discount):>14}\")\n",
        "print(f\"{'VAT (11%)':43}{fmt(vat):>15}\")\n",
        "print(\"-\" * 60)\n",
        "print(f\"{'TOTAL AMOUNT':43}{fmt(total):>15} USDT\")\n",
        "print(\"-\" * 60)\n",
        "print(\"Payment Method: Crypto Wallet (USDT - TRC20)\")\n",
        "print(\"Processed by: Jonathan M.\")\n",
        "print(\"-\" * 60)\n",
        "print(f\"   Thank you, {customer_name}!\")\n",
        "print(\"   Harrods Luxury International - Dubai ✨\")\n",
        "print('      \"Where Elegance Meets Perfection\"')\n",
        "print(\"-\" * 60)\n"
      ],
      "metadata": {
        "colab": {
          "base_uri": "https://localhost:8080/"
        },
        "id": "v3wIu0bb4itb",
        "outputId": "857c3076-e4e4-4682-9d45-052a64467a59"
      },
      "execution_count": 5,
      "outputs": [
        {
          "output_type": "stream",
          "name": "stdout",
          "text": [
            "        Harrods Luxury International (Dubai Branch)         \n",
            "        Dubai Marina - Sheikh Zayed Road, Dubai, UAE        \n",
            "------------------------------------------------------------\n",
            "Customer Name : Egi Syahputra\n",
            "Date & Time   : 2025-10-16 16:37:28\n",
            "------------------------------------------------------------\n",
            "Item                                    QTY  Amount (USDT)\n",
            "------------------------------------------------------------\n",
            "Tesla Model X Plaid                       1        230,000\n",
            "iPhone 17 Pro Max                         2          2,400\n",
            "PlayStation 5 Slim                        1            700\n",
            "Luxury Villa - Palm Jumeirah              1      7,800,000\n",
            "Private Jet Gulfstream G800               1     28,500,000\n",
            "Luxury Yacht - Azimut                     1     19,000,000\n",
            "------------------------------------------------------------\n",
            "Subtotal                                        55,533,100\n",
            "Premium Member Discount (5%)               -      2,776,655\n",
            "VAT (11%)                                        5,803,209\n",
            "------------------------------------------------------------\n",
            "TOTAL AMOUNT                                    58,559,654 USDT\n",
            "------------------------------------------------------------\n",
            "Payment Method: Crypto Wallet (USDT - TRC20)\n",
            "Processed by: Jonathan M.\n",
            "------------------------------------------------------------\n",
            "   Thank you, Egi Syahputra!\n",
            "   Harrods Luxury International - Dubai ✨\n",
            "      \"Where Elegance Meets Perfection\"\n",
            "------------------------------------------------------------\n"
          ]
        }
      ]
    }
  ]
}